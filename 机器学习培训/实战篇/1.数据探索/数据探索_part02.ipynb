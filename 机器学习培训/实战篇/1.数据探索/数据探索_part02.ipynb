{
 "cells": [
  {
   "cell_type": "markdown",
   "metadata": {},
   "source": [
    "# Python 主要数据探索函数"
   ]
  },
  {
   "cell_type": "markdown",
   "metadata": {},
   "source": [
    "### Pandas统计函数"
   ]
  },
  {
   "cell_type": "markdown",
   "metadata": {},
   "source": [
    "**Pandas主要统计特征函数**\n",
    "\n",
    "|方法名|函数功能|\n",
    "|:-:|:-:|:-:|\n",
    "|sum()|计算数据样本的总和（按列计算）|\n",
    "|mean()|计算数据样本的算数平均数|\n",
    "|var()|计算数据样本的方差|\n",
    "|std()|计算数据样本的标准差|\n",
    "|corr()|计算数据样本的Spearman(Pearson)相关系数矩阵|\n",
    "|cov()|计算数据样本的协方差矩阵|\n",
    "|skew()|样本值的偏度（三阶矩）|\n",
    "|kurt()|样本值的峰度（四阶矩）|\n",
    "|describe()|给出样本的基本描述（基本统计量如均值、标注差等）|"
   ]
  },
  {
   "cell_type": "markdown",
   "metadata": {},
   "source": [
    "**Pandas累积统计特征函数**\n",
    "\n",
    "|方法名|函数功能|\n",
    "|:-:|:-:|\n",
    "|cumsum(`n`)|依次给出前n个数的和|\n",
    "|cumprod(`n`)|依次给出前n个数的积|\n",
    "|cummax(`n`)|依次给出前n个数的最大值|\n",
    "|cummin(`n`)|依次给出前n个数的最小值|"
   ]
  },
  {
   "cell_type": "markdown",
   "metadata": {},
   "source": [
    "**Pandas滚动统计特征函数**\n",
    "\n",
    "|方法名|函数功能|\n",
    "|:-:|:-:|\n",
    "|rolling_sum()|计算数据样本的总和（按列计算）|\n",
    "|rolling_mean()|数据样本的算数平均数|\n",
    "|rolling_var()|计算数据样本的方差|\n",
    "|rolling_std()|计算数据样本的标准差|\n",
    "|rolling_corr()|计算数据样本的Spearman(Pearson)相关系数矩阵|\n",
    "|rolling_cov()|计算数据样本的协方差矩阵|\n",
    "|rolling_skew()|样本值的偏度（三阶矩）|\n",
    "|rolling_kurt()|样本的峰度（四阶矩）|\n",
    "\n",
    "调用方法：pd.rolling_mean(D, k)，意思是每k列计算依次均值，滚动计算。\n"
   ]
  },
  {
   "cell_type": "markdown",
   "metadata": {},
   "source": [
    "### Pandas绘图函数\n",
    "Pandas 基于 Matplotlib并对某些命令进行了简化，因此作图通常是 Matplotlib 和 Pandas 相互结合着使用。"
   ]
  },
  {
   "cell_type": "markdown",
   "metadata": {},
   "source": [
    "**Pandas主要统计作图函数**\n",
    "\n",
    "|函数名|函数功能|\n",
    "|:-:|:-:|\n",
    "|plot()|绘制线性二维图，折线图|\n",
    "|pie()|绘制饼形图|\n",
    "|hist()|绘制二维条形直方图，可显示数据的分配情况|\n",
    "|boxplot()|绘制样本数据的箱型图|\n",
    "|plot(logy = True)|绘制y轴的对数图形|\n",
    "|plot(yerr = error)|绘制误差条形图|"
   ]
  },
  {
   "cell_type": "markdown",
   "metadata": {},
   "source": [
    "## 总结\n",
    "- 1.数据质量分析要求我们拿到数据后先检测是否存在缺失值和异常值；\n",
    "- 2.数据质量分析要求我们在数据挖掘建模前，通过频率分布分析、对比分析、帕累托分析、周期性分析、相关性分析等方法，对采集的样本数据的特征规律进行分析，以了解数据的规律和趋势，为数据挖掘的后续环节提供支持。"
   ]
  },
  {
   "cell_type": "code",
   "execution_count": null,
   "metadata": {
    "collapsed": true
   },
   "outputs": [],
   "source": []
  },
  {
   "cell_type": "code",
   "execution_count": null,
   "metadata": {
    "collapsed": true
   },
   "outputs": [],
   "source": []
  }
 ],
 "metadata": {
  "kernelspec": {
   "display_name": "Python 3",
   "language": "python",
   "name": "python3"
  },
  "language_info": {
   "codemirror_mode": {
    "name": "ipython",
    "version": 3
   },
   "file_extension": ".py",
   "mimetype": "text/x-python",
   "name": "python",
   "nbconvert_exporter": "python",
   "pygments_lexer": "ipython3",
   "version": "3.6.3"
  }
 },
 "nbformat": 4,
 "nbformat_minor": 2
}
