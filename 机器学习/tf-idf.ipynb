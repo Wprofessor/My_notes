{
 "cells": [
  {
   "cell_type": "code",
   "execution_count": 13,
   "metadata": {},
   "outputs": [
    {
     "data": {
      "text/plain": [
       "(array([[0.        , 0.        , 0.        , 0.34884223, 0.44246214,\n",
       "         0.        , 0.        , 0.        , 0.        , 0.        ,\n",
       "         0.        , 0.        , 0.        , 0.        , 0.        ,\n",
       "         0.69768446, 0.44246214, 0.        , 0.        ],\n",
       "        [0.        , 0.        , 0.4533864 , 0.35745504, 0.        ,\n",
       "         0.35745504, 0.35745504, 0.        , 0.        , 0.4533864 ,\n",
       "         0.        , 0.        , 0.        , 0.        , 0.4533864 ,\n",
       "         0.        , 0.        , 0.        , 0.        ],\n",
       "        [0.5       , 0.5       , 0.        , 0.        , 0.        ,\n",
       "         0.        , 0.        , 0.5       , 0.        , 0.        ,\n",
       "         0.        , 0.        , 0.5       , 0.        , 0.        ,\n",
       "         0.        , 0.        , 0.        , 0.        ],\n",
       "        [0.        , 0.        , 0.        , 0.        , 0.        ,\n",
       "         0.28113163, 0.28113163, 0.        , 0.35657982, 0.        ,\n",
       "         0.35657982, 0.35657982, 0.        , 0.35657982, 0.        ,\n",
       "         0.28113163, 0.        , 0.35657982, 0.35657982]]),\n",
       " ['and',\n",
       "  'apple',\n",
       "  'car',\n",
       "  'china',\n",
       "  'come',\n",
       "  'in',\n",
       "  'is',\n",
       "  'love',\n",
       "  'papers',\n",
       "  'polupar',\n",
       "  'science',\n",
       "  'some',\n",
       "  'tea',\n",
       "  'the',\n",
       "  'this',\n",
       "  'to',\n",
       "  'travel',\n",
       "  'work',\n",
       "  'write'],\n",
       " {'and': 0,\n",
       "  'apple': 1,\n",
       "  'car': 2,\n",
       "  'china': 3,\n",
       "  'come': 4,\n",
       "  'in': 5,\n",
       "  'is': 6,\n",
       "  'love': 7,\n",
       "  'papers': 8,\n",
       "  'polupar': 9,\n",
       "  'science': 10,\n",
       "  'some': 11,\n",
       "  'tea': 12,\n",
       "  'the': 13,\n",
       "  'this': 14,\n",
       "  'to': 15,\n",
       "  'travel': 16,\n",
       "  'work': 17,\n",
       "  'write': 18})"
      ]
     },
     "execution_count": 13,
     "metadata": {},
     "output_type": "execute_result"
    }
   ],
   "source": [
    "from sklearn.feature_extraction.text import TfidfTransformer  \n",
    "from sklearn.feature_extraction.text import CountVectorizer  \n",
    "# 语料库\n",
    "corpus=[\"I come to China to travel\", \n",
    "    \"This is a car polupar in China\",          \n",
    "    \"I love tea and Apple \",   \n",
    "    \"The work is to write some papers in science\"] \n",
    "# 1、构建词频矩阵，将文本中的词语转换成词频矩阵\n",
    "vectorizer=CountVectorizer()\n",
    "# 2、统计每个词的tf-idf权值\n",
    "transformer = TfidfTransformer()\n",
    "tfidf = transformer.fit_transform(vectorizer.fit_transform(corpus))  \n",
    "# 3、获取词袋模型中的关键词（默认去掉停用词）\n",
    "word = vectorizer.get_feature_names()\n",
    "# 4、获取tf-idf矩阵，a[i][j]表示j词在i篇文本中的tf-idf权重\n",
    "weight = tfidf.toarray()  # 每个关键词在相应句子中的tf-idf值\n",
    "dic = vectorizer.vocabulary_    # 得到每个关键词对应的索引\n",
    "weight,word,dic"
   ]
  }
 ],
 "metadata": {
  "kernelspec": {
   "display_name": "Python 3",
   "language": "python",
   "name": "python3"
  },
  "language_info": {
   "codemirror_mode": {
    "name": "ipython",
    "version": 3
   },
   "file_extension": ".py",
   "mimetype": "text/x-python",
   "name": "python",
   "nbconvert_exporter": "python",
   "pygments_lexer": "ipython3",
   "version": "3.5.6"
  }
 },
 "nbformat": 4,
 "nbformat_minor": 2
}
