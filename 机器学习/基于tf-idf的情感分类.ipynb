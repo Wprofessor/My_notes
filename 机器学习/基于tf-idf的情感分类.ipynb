{
 "cells": [
  {
   "cell_type": "markdown",
   "metadata": {},
   "source": [
    "# 利用tf-idf构建词向量"
   ]
  },
  {
   "cell_type": "code",
   "execution_count": 185,
   "metadata": {},
   "outputs": [],
   "source": [
    "from sklearn.feature_extraction.text import TfidfTransformer  \n",
    "from sklearn.feature_extraction.text import CountVectorizer  \n",
    "import pandas as pd\n",
    "import numpy as np\n",
    "fr = pd.read_csv('C:\\\\Users\\\\王教授\\Desktop\\\\大数据挑战赛预选赛\\\\data\\\\remake_train.csv',engine = 'python')\n",
    "fr_ = pd.read_csv('C:\\\\Users\\\\王教授\\Desktop\\\\大数据挑战赛预选赛\\\\data\\\\20190513_test.csv',engine = 'python')\n",
    "corpus = []\n",
    "Labels = []\n",
    "for i in fr['review']:\n",
    "    corpus.append(i)\n",
    "for i in fr_['review']:\n",
    "    corpus.append(i)\n",
    "# 1、构建词频矩阵，将文本中的词语转换成词频矩阵\n",
    "vectorizer=CountVectorizer()\n",
    "# 2、统计每个词的tf-idf权值\n",
    "transformer = TfidfTransformer()\n",
    "tfidf = transformer.fit_transform(vectorizer.fit_transform(corpus))  \n",
    "# 3、获取词袋模型中的关键词（默认去掉停用词）\n",
    "word = vectorizer.get_feature_names()\n",
    "# 4、获取tf-idf矩阵，a[i][j]表示j词在i篇文本中的tf-idf权重\n",
    "weight = tfidf.toarray()  # 每个关键词在相应句子中的tf-idf值\n",
    "dic = vectorizer.vocabulary_    # 得到每个关键词对应的索引\n",
    "X = weight[0:6328]\n",
    "XTest = weight[6328:]\n",
    "Y = fr['label']"
   ]
  },
  {
   "cell_type": "code",
   "execution_count": 186,
   "metadata": {
    "collapsed": true
   },
   "outputs": [],
   "source": [
    "Y.replace(\"Positive\", 1, inplace=True)\n",
    "Y.replace(\"Negative\", 0, inplace=True)"
   ]
  },
  {
   "cell_type": "markdown",
   "metadata": {},
   "source": [
    "# 使用pca对词向量进行降维处理（提高泛化能力，防止过拟合，提高运行效率）"
   ]
  },
  {
   "cell_type": "code",
   "execution_count": 117,
   "metadata": {},
   "outputs": [],
   "source": [
    "from sklearn.decomposition import PCA\n",
    "pca = PCA(100)  # 降维\n",
    "pca_data = pca.fit_transform(X)"
   ]
  },
  {
   "cell_type": "code",
   "execution_count": 157,
   "metadata": {},
   "outputs": [
    {
     "data": {
      "text/plain": [
       "array([[0.01161966, 0.        , 0.04167007, ..., 0.        , 0.        ,\n",
       "        0.        ],\n",
       "       [0.        , 0.        , 0.        , ..., 0.00039089, 0.02062857,\n",
       "        0.02323341],\n",
       "       [0.        , 0.        , 0.01917368, ..., 0.0580126 , 0.02121947,\n",
       "        0.04318964],\n",
       "       ...,\n",
       "       [0.        , 0.        , 0.        , ..., 0.02485908, 0.        ,\n",
       "        0.        ],\n",
       "       [0.13507671, 0.02678847, 0.        , ..., 0.        , 0.        ,\n",
       "        0.        ],\n",
       "       [0.        , 0.        , 0.00280748, ..., 0.00160068, 0.01067999,\n",
       "        0.        ]])"
      ]
     },
     "execution_count": 157,
     "metadata": {},
     "output_type": "execute_result"
    }
   ],
   "source": [
    "(pca_data+np.abs(pca_data))/2"
   ]
  },
  {
   "cell_type": "markdown",
   "metadata": {},
   "source": [
    "# 使用多项式贝叶斯模型进行分类训练"
   ]
  },
  {
   "cell_type": "code",
   "execution_count": 187,
   "metadata": {},
   "outputs": [
    {
     "data": {
      "text/plain": [
       "MultinomialNB(alpha=0.1, class_prior=None, fit_prior=True)"
      ]
     },
     "execution_count": 187,
     "metadata": {},
     "output_type": "execute_result"
    }
   ],
   "source": [
    "from sklearn.naive_bayes import MultinomialNB\n",
    "clf = MultinomialNB(alpha=0.1)   # alpha是拉普拉斯平滑系数\n",
    "clf.fit(X, Y)"
   ]
  },
  {
   "cell_type": "code",
   "execution_count": 177,
   "metadata": {},
   "outputs": [
    {
     "data": {
      "text/plain": [
       "((6328, 22238), (6328,))"
      ]
     },
     "execution_count": 177,
     "metadata": {},
     "output_type": "execute_result"
    }
   ],
   "source": [
    "X.shape,Y.shape   "
   ]
  },
  {
   "cell_type": "markdown",
   "metadata": {},
   "source": [
    "# 使预测结果以概率的形式呈现"
   ]
  },
  {
   "cell_type": "code",
   "execution_count": 169,
   "metadata": {},
   "outputs": [
    {
     "data": {
      "text/plain": [
       "(2712, 2712)"
      ]
     },
     "execution_count": 169,
     "metadata": {},
     "output_type": "execute_result"
    }
   ],
   "source": [
    "resultTest = clf.predict_proba(XTest)[:,1]\n",
    "id = [i for i in range(1,len(resultTest)+1)]\n",
    "len(resultTest),len(id)"
   ]
  },
  {
   "cell_type": "markdown",
   "metadata": {},
   "source": [
    "# 将预测的结果写入csv文件中"
   ]
  },
  {
   "cell_type": "code",
   "execution_count": 179,
   "metadata": {},
   "outputs": [],
   "source": [
    "dataframe = pd.DataFrame({'ID':id,'Pred':resultTest})\n",
    "dataframe.to_csv(\"C:\\\\Users\\\\王教授\\\\Desktop\\\\大数据挑战赛预选赛\\\\data\\\\test.csv\",index=False,sep=',')"
   ]
  },
  {
   "cell_type": "markdown",
   "metadata": {},
   "source": [
    "# k折交叉验证 "
   ]
  },
  {
   "cell_type": "code",
   "execution_count": 188,
   "metadata": {},
   "outputs": [
    {
     "data": {
      "text/plain": [
       "0.8567583698797513"
      ]
     },
     "execution_count": 188,
     "metadata": {},
     "output_type": "execute_result"
    }
   ],
   "source": [
    "from sklearn.model_selection import cross_val_score\n",
    "# k折交叉验证 计算AUC\n",
    "scores = cross_val_score(clf, X, Y, scoring=\"roc_auc\", cv=5)\n",
    "scores.mean()"
   ]
  },
  {
   "cell_type": "markdown",
   "metadata": {},
   "source": [
    "# 调用逻辑回归模型作为分类器"
   ]
  },
  {
   "cell_type": "code",
   "execution_count": 125,
   "metadata": {},
   "outputs": [
    {
     "data": {
      "text/plain": [
       "0.8181775423238244"
      ]
     },
     "execution_count": 125,
     "metadata": {},
     "output_type": "execute_result"
    }
   ],
   "source": [
    "from sklearn.linear_model import LogisticRegression\n",
    "# 逻辑回归\n",
    "logreg = LogisticRegression(C=1e5,penalty='l2')\n",
    "logreg.fit(X, Y)   # 训练\n",
    "r = cross_val_score(logreg, X, Y, scoring=\"roc_auc\", cv=5)\n",
    "r.mean()"
   ]
  },
  {
   "cell_type": "code",
   "execution_count": 91,
   "metadata": {},
   "outputs": [
    {
     "data": {
      "text/plain": [
       "LogisticRegression(C=100000.0, class_weight=None, dual=False,\n",
       "          fit_intercept=True, intercept_scaling=1, max_iter=100,\n",
       "          multi_class='ovr', n_jobs=1, penalty='l1', random_state=None,\n",
       "          solver='liblinear', tol=0.0001, verbose=0, warm_start=False)"
      ]
     },
     "execution_count": 91,
     "metadata": {},
     "output_type": "execute_result"
    }
   ],
   "source": [
    "logreg.fit(pca_data, Y)"
   ]
  },
  {
   "cell_type": "code",
   "execution_count": 65,
   "metadata": {},
   "outputs": [
    {
     "data": {
      "text/plain": [
       "0.6342293810817361"
      ]
     },
     "execution_count": 65,
     "metadata": {},
     "output_type": "execute_result"
    }
   ],
   "source": [
    "from sklearn.naive_bayes import GaussianNB\n",
    "\n",
    "Guss = GaussianNB().fit(pca_data, Y)\n",
    "gc = cross_val_score(Guss, pca_data, Y, scoring=\"accuracy\", cv=5)\n",
    "gc.mean()"
   ]
  },
  {
   "cell_type": "code",
   "execution_count": 162,
   "metadata": {},
   "outputs": [
    {
     "data": {
      "text/plain": [
       "0.710936412324356"
      ]
     },
     "execution_count": 162,
     "metadata": {},
     "output_type": "execute_result"
    }
   ],
   "source": [
    "\n",
    "from sklearn.naive_bayes import BernoulliNB\n",
    "\n",
    "bnl = BernoulliNB()\n",
    "\n",
    "bnl.fit(X, Y)\n",
    "bnlc = cross_val_score(Guss, X, Y, scoring=\"roc_auc\", cv=5)\n",
    "bnlc.mean()"
   ]
  }
 ],
 "metadata": {
  "kernelspec": {
   "display_name": "Python 3",
   "language": "python",
   "name": "python3"
  },
  "language_info": {
   "codemirror_mode": {
    "name": "ipython",
    "version": 3
   },
   "file_extension": ".py",
   "mimetype": "text/x-python",
   "name": "python",
   "nbconvert_exporter": "python",
   "pygments_lexer": "ipython3",
   "version": "3.6.3"
  }
 },
 "nbformat": 4,
 "nbformat_minor": 2
}
